{
 "cells": [
  {
   "cell_type": "code",
   "execution_count": 34,
   "id": "51b40f3d",
   "metadata": {
    "scrolled": true
   },
   "outputs": [],
   "source": [
    "#iniciar spark\n",
    "from pyspark import SparkConf\n",
    "from pyspark.sql import SparkSession\n",
    "import boto3\n",
    "import json\n",
    "\n",
    "conf = SparkConf()\n",
    "conf.set('spark.jars.packages', 'org.apache.hadoop:hadoop-aws:3.2.0')\n",
    "conf.set('spark.hadoop.fs.s3a.aws.credentials.provider', 'com.amazonaws.auth.InstanceProfileCredentialsProvider')\n",
    "spark = SparkSession.builder.config(conf=conf).getOrCreate()"
   ]
  },
  {
   "cell_type": "code",
   "execution_count": 35,
   "id": "27d6c97e",
   "metadata": {
    "scrolled": true
   },
   "outputs": [],
   "source": [
    "#carregar tabela ( atenção ao caminho)\n",
    "a = spark.read.json('s3a://raw-dev-fernando/167083e4-d01e-002c-43be-91858106a752.json')"
   ]
  },
  {
   "cell_type": "code",
   "execution_count": 36,
   "id": "e27c880d",
   "metadata": {
    "scrolled": true
   },
   "outputs": [
    {
     "name": "stdout",
     "output_type": "stream",
     "text": [
      "+--------------------+--------------------+------------------+--------------------+\n",
      "|                Body|     EnqueuedTimeUtc|        Properties|    SystemProperties|\n",
      "+--------------------+--------------------+------------------+--------------------+\n",
      "|{0.031, 0.052, 0....|2023-05-28T23:39:...|{sensor-movimento}|{{\"scope\":\"device...|\n",
      "|{0.002, 0.024, -0...|2023-05-28T23:39:...|{sensor-movimento}|{{\"scope\":\"device...|\n",
      "|{0.054, 0.012, 0....|2023-05-28T23:39:...|{sensor-movimento}|{{\"scope\":\"device...|\n",
      "|{0.022, 0.004, 0....|2023-05-28T23:39:...|{sensor-movimento}|{{\"scope\":\"device...|\n",
      "|{-0.002, -0.013, ...|2023-05-28T23:39:...|{sensor-movimento}|{{\"scope\":\"device...|\n",
      "|{0.03, 0.006, 0.0...|2023-05-28T23:39:...|{sensor-movimento}|{{\"scope\":\"device...|\n",
      "|{0.027, 0.01, 0.0...|2023-05-28T23:39:...|{sensor-movimento}|{{\"scope\":\"device...|\n",
      "|{0.062, 0.033, 0....|2023-05-28T23:39:...|{sensor-movimento}|{{\"scope\":\"device...|\n",
      "|{0.018, 0.01, 0.0...|2023-05-28T23:39:...|{sensor-movimento}|{{\"scope\":\"device...|\n",
      "|{-0.007, 0.09, 0....|2023-05-28T23:39:...|{sensor-movimento}|{{\"scope\":\"device...|\n",
      "|{0.009, -0.004, 0...|2023-05-28T23:39:...|{sensor-movimento}|{{\"scope\":\"device...|\n",
      "|{0.026, 0.006, 0....|2023-05-28T23:39:...|{sensor-movimento}|{{\"scope\":\"device...|\n",
      "|{0.003, 0.02, 0.0...|2023-05-28T23:39:...|{sensor-movimento}|{{\"scope\":\"device...|\n",
      "|{0.007, 0.006, 0....|2023-05-28T23:39:...|{sensor-movimento}|{{\"scope\":\"device...|\n",
      "|{0.02, -0.018, 0....|2023-05-28T23:39:...|{sensor-movimento}|{{\"scope\":\"device...|\n",
      "|{0.02, 0.031, 0.0...|2023-05-28T23:39:...|{sensor-movimento}|{{\"scope\":\"device...|\n",
      "|{0.025, 0.031, 0....|2023-05-28T23:39:...|{sensor-movimento}|{{\"scope\":\"device...|\n",
      "|{0.009, 0.021, 0....|2023-05-28T23:39:...|{sensor-movimento}|{{\"scope\":\"device...|\n",
      "|{0.021, 0.011, 0....|2023-05-28T23:39:...|{sensor-movimento}|{{\"scope\":\"device...|\n",
      "|{0.04, 0.039, 0.0...|2023-05-28T23:40:...|{sensor-movimento}|{{\"scope\":\"device...|\n",
      "+--------------------+--------------------+------------------+--------------------+\n",
      "only showing top 20 rows\n",
      "\n"
     ]
    }
   ],
   "source": [
    "#exibir a tabela\n",
    "\n",
    "a.show()"
   ]
  },
  {
   "cell_type": "code",
   "execution_count": 37,
   "id": "e55a1ca5",
   "metadata": {
    "scrolled": true
   },
   "outputs": [
    {
     "name": "stdout",
     "output_type": "stream",
     "text": [
      "+-----------------+-----------------+-----------------+---------------+-------------------+\n",
      "|aceleracao_eixo_x|aceleracao_eixo_y|aceleracao_eixo_z|horario_leitura|bateria_dispositivo|\n",
      "+-----------------+-----------------+-----------------+---------------+-------------------+\n",
      "|            0.031|            0.052|            0.026|       00:39:25|              92.97|\n",
      "|            0.002|            0.024|           -0.011|       20:39:30|              92.96|\n",
      "|            0.054|            0.012|            0.021|       21:39:30|              92.95|\n",
      "|            0.022|            0.004|            0.015|       22:39:30|              92.94|\n",
      "|           -0.002|           -0.013|            0.018|       23:39:30|              92.93|\n",
      "|             0.03|            0.006|            0.027|       00:39:30|              92.92|\n",
      "|            0.027|             0.01|            0.016|       20:39:36|              92.91|\n",
      "|            0.062|            0.033|            0.018|       21:39:36|               92.9|\n",
      "|            0.018|             0.01|            0.021|       22:39:36|              92.89|\n",
      "|           -0.007|             0.09|            0.037|       23:39:36|              92.89|\n",
      "|            0.009|           -0.004|            0.017|       00:39:36|              92.88|\n",
      "|            0.026|            0.006|             0.01|       20:39:51|              92.87|\n",
      "|            0.003|             0.02|            0.006|       21:39:51|              92.86|\n",
      "|            0.007|            0.006|            0.015|       22:39:51|              92.85|\n",
      "|             0.02|           -0.018|             0.04|       23:39:51|              92.84|\n",
      "|             0.02|            0.031|            0.022|       00:39:51|              92.83|\n",
      "|            0.025|            0.031|            0.033|       20:39:56|              92.82|\n",
      "|            0.009|            0.021|             0.02|       21:39:56|              92.81|\n",
      "|            0.021|            0.011|             0.02|       22:39:56|               92.8|\n",
      "|             0.04|            0.039|            0.027|       23:39:56|              92.79|\n",
      "+-----------------+-----------------+-----------------+---------------+-------------------+\n",
      "only showing top 20 rows\n",
      "\n"
     ]
    }
   ],
   "source": [
    "arquivo_trusted = a.select(a.Body.aceleracao_eixo_x.alias('aceleracao_eixo_x'),\n",
    "                a.Body.aceleracao_eixo_y.alias('aceleracao_eixo_y'),\n",
    "                a.Body.aceleracao_eixo_z.alias('aceleracao_eixo_z'),\n",
    "                a.Body.horario_leitura.alias('horario_leitura'),\n",
    "                a.Body.bateria_dispositivo.alias('bateria_dispositivo'))\n",
    "arquivo_trusted.show()"
   ]
  },
  {
   "cell_type": "code",
   "execution_count": 38,
   "id": "a9cf791d",
   "metadata": {
    "scrolled": false
   },
   "outputs": [
    {
     "name": "stdout",
     "output_type": "stream",
     "text": [
      "[[0.031, 0.052, 0.026, \"00:39:25\", 92.97], [0.002, 0.024, -0.011, \"20:39:30\", 92.96], [0.054, 0.012, 0.021, \"21:39:30\", 92.95], [0.022, 0.004, 0.015, \"22:39:30\", 92.94], [-0.002, -0.013, 0.018, \"23:39:30\", 92.93], [0.03, 0.006, 0.027, \"00:39:30\", 92.92], [0.027, 0.01, 0.016, \"20:39:36\", 92.91], [0.062, 0.033, 0.018, \"21:39:36\", 92.9], [0.018, 0.01, 0.021, \"22:39:36\", 92.89], [-0.007, 0.09, 0.037, \"23:39:36\", 92.89], [0.009, -0.004, 0.017, \"00:39:36\", 92.88], [0.026, 0.006, 0.01, \"20:39:51\", 92.87], [0.003, 0.02, 0.006, \"21:39:51\", 92.86], [0.007, 0.006, 0.015, \"22:39:51\", 92.85], [0.02, -0.018, 0.04, \"23:39:51\", 92.84], [0.02, 0.031, 0.022, \"00:39:51\", 92.83], [0.025, 0.031, 0.033, \"20:39:56\", 92.82], [0.009, 0.021, 0.02, \"21:39:56\", 92.81], [0.021, 0.011, 0.02, \"22:39:56\", 92.8], [0.04, 0.039, 0.027, \"23:39:56\", 92.79], [0.013, 0.019, 0.008, \"00:39:56\", 92.78]]\n"
     ]
    }
   ],
   "source": [
    "json_trusted = json.dumps(arquivo_trusted.collect())\n",
    "print(json_trusted)"
   ]
  },
  {
   "cell_type": "code",
   "execution_count": 39,
   "id": "152f5894",
   "metadata": {},
   "outputs": [
    {
     "data": {
      "text/plain": [
       "{'ResponseMetadata': {'RequestId': 'GX2ES58AT2E92Z9H',\n",
       "  'HostId': 'lf5x9zkNv8TVvwUdBB9D5hLyZcpSXeC9ek8YFi4beag1nwI9W/BueKDIMMbsyx67vEIKeNkePjs=',\n",
       "  'HTTPStatusCode': 200,\n",
       "  'HTTPHeaders': {'x-amz-id-2': 'lf5x9zkNv8TVvwUdBB9D5hLyZcpSXeC9ek8YFi4beag1nwI9W/BueKDIMMbsyx67vEIKeNkePjs=',\n",
       "   'x-amz-request-id': 'GX2ES58AT2E92Z9H',\n",
       "   'date': 'Tue, 30 May 2023 00:48:05 GMT',\n",
       "   'x-amz-server-side-encryption': 'AES256',\n",
       "   'etag': '\"76d91db6664100144d638fa8d4561436\"',\n",
       "   'server': 'AmazonS3',\n",
       "   'content-length': '0'},\n",
       "  'RetryAttempts': 0},\n",
       " 'ETag': '\"76d91db6664100144d638fa8d4561436\"',\n",
       " 'ServerSideEncryption': 'AES256'}"
      ]
     },
     "execution_count": 39,
     "metadata": {},
     "output_type": "execute_result"
    }
   ],
   "source": [
    "session = boto3.Session()\n",
    "\n",
    "s3 = session.client('s3')\n",
    "\n",
    "bucket_name = 'trusted-dev-fernando'\n",
    "file_name = 'trusted-2023/05/28.json'\n",
    "\n",
    "s3.put_object(Body=json_trusted, Bucket=bucket_name, Key=file_name)"
   ]
  },
  {
   "cell_type": "code",
   "execution_count": 40,
   "id": "0d308ce0",
   "metadata": {},
   "outputs": [
    {
     "data": {
      "text/plain": [
       "{'ResponseMetadata': {'RequestId': 'R4H90VPNMBESX56B',\n",
       "  'HostId': 'PVq3Gq9Q7toL+FQDqkur+e7p0OWQbQHB1dBq/YKG0Oj7sj44I6Gq2kxWiTgPqwMrymXbUXESjZY=',\n",
       "  'HTTPStatusCode': 200,\n",
       "  'HTTPHeaders': {'x-amz-id-2': 'PVq3Gq9Q7toL+FQDqkur+e7p0OWQbQHB1dBq/YKG0Oj7sj44I6Gq2kxWiTgPqwMrymXbUXESjZY=',\n",
       "   'x-amz-request-id': 'R4H90VPNMBESX56B',\n",
       "   'date': 'Tue, 30 May 2023 00:48:07 GMT',\n",
       "   'x-amz-server-side-encryption': 'AES256',\n",
       "   'etag': '\"76d91db6664100144d638fa8d4561436\"',\n",
       "   'server': 'AmazonS3',\n",
       "   'content-length': '0'},\n",
       "  'RetryAttempts': 0},\n",
       " 'ETag': '\"76d91db6664100144d638fa8d4561436\"',\n",
       " 'ServerSideEncryption': 'AES256'}"
      ]
     },
     "execution_count": 40,
     "metadata": {},
     "output_type": "execute_result"
    }
   ],
   "source": [
    "session = boto3.Session()\n",
    "\n",
    "s3 = session.client('s3')\n",
    "\n",
    "bucket_name = 'trusted-dev-fernando'\n",
    "file_name = 'trusted-2023/05/28.json'\n",
    "\n",
    "s3.put_object(Body=json_trusted, Bucket=bucket_name, Key=file_name)"
   ]
  },
  {
   "cell_type": "code",
   "execution_count": 41,
   "id": "fd2735e7",
   "metadata": {},
   "outputs": [],
   "source": [
    "#carregar tabela ( atenção ao caminho)\n",
    "b = spark.read.json('s3a://trusted-dev-fernando/trusted-2023/05/28.json')"
   ]
  },
  {
   "cell_type": "code",
   "execution_count": 42,
   "id": "921667be",
   "metadata": {
    "scrolled": true
   },
   "outputs": [
    {
     "name": "stdout",
     "output_type": "stream",
     "text": [
      "+-----------------+-----------------+-----------------+---------------+\n",
      "|aceleracao_eixo_x|aceleracao_eixo_y|aceleracao_eixo_z|horario_leitura|\n",
      "+-----------------+-----------------+-----------------+---------------+\n",
      "|            0.031|            0.052|            0.026|       00:39:25|\n",
      "|            0.002|            0.024|           -0.011|       20:39:30|\n",
      "|            0.054|            0.012|            0.021|       21:39:30|\n",
      "|            0.022|            0.004|            0.015|       22:39:30|\n",
      "|           -0.002|           -0.013|            0.018|       23:39:30|\n",
      "|             0.03|            0.006|            0.027|       00:39:30|\n",
      "|            0.027|             0.01|            0.016|       20:39:36|\n",
      "|            0.062|            0.033|            0.018|       21:39:36|\n",
      "|            0.018|             0.01|            0.021|       22:39:36|\n",
      "|           -0.007|             0.09|            0.037|       23:39:36|\n",
      "|            0.009|           -0.004|            0.017|       00:39:36|\n",
      "|            0.026|            0.006|             0.01|       20:39:51|\n",
      "|            0.003|             0.02|            0.006|       21:39:51|\n",
      "|            0.007|            0.006|            0.015|       22:39:51|\n",
      "|             0.02|           -0.018|             0.04|       23:39:51|\n",
      "|             0.02|            0.031|            0.022|       00:39:51|\n",
      "|            0.025|            0.031|            0.033|       20:39:56|\n",
      "|            0.009|            0.021|             0.02|       21:39:56|\n",
      "|            0.021|            0.011|             0.02|       22:39:56|\n",
      "|             0.04|            0.039|            0.027|       23:39:56|\n",
      "+-----------------+-----------------+-----------------+---------------+\n",
      "only showing top 20 rows\n",
      "\n"
     ]
    }
   ],
   "source": [
    "arquivo_refined = a.select(a.Body.aceleracao_eixo_x.alias('aceleracao_eixo_x'),\n",
    "                a.Body.aceleracao_eixo_y.alias('aceleracao_eixo_y'),\n",
    "                a.Body.aceleracao_eixo_z.alias('aceleracao_eixo_z'),\n",
    "                a.Body.horario_leitura.alias('horario_leitura'))\n",
    "arquivo_refined.show()"
   ]
  },
  {
   "cell_type": "code",
   "execution_count": 43,
   "id": "d045d714",
   "metadata": {
    "scrolled": true
   },
   "outputs": [
    {
     "name": "stdout",
     "output_type": "stream",
     "text": [
      "[[0.031, 0.052, 0.026, \"00:39:25\"], [0.002, 0.024, -0.011, \"20:39:30\"], [0.054, 0.012, 0.021, \"21:39:30\"], [0.022, 0.004, 0.015, \"22:39:30\"], [-0.002, -0.013, 0.018, \"23:39:30\"], [0.03, 0.006, 0.027, \"00:39:30\"], [0.027, 0.01, 0.016, \"20:39:36\"], [0.062, 0.033, 0.018, \"21:39:36\"], [0.018, 0.01, 0.021, \"22:39:36\"], [-0.007, 0.09, 0.037, \"23:39:36\"], [0.009, -0.004, 0.017, \"00:39:36\"], [0.026, 0.006, 0.01, \"20:39:51\"], [0.003, 0.02, 0.006, \"21:39:51\"], [0.007, 0.006, 0.015, \"22:39:51\"], [0.02, -0.018, 0.04, \"23:39:51\"], [0.02, 0.031, 0.022, \"00:39:51\"], [0.025, 0.031, 0.033, \"20:39:56\"], [0.009, 0.021, 0.02, \"21:39:56\"], [0.021, 0.011, 0.02, \"22:39:56\"], [0.04, 0.039, 0.027, \"23:39:56\"], [0.013, 0.019, 0.008, \"00:39:56\"]]\n"
     ]
    }
   ],
   "source": [
    "json_refined = json.dumps(arquivo_refined.collect())\n",
    "print(json_refined)"
   ]
  },
  {
   "cell_type": "code",
   "execution_count": 44,
   "id": "0fc8aee9",
   "metadata": {},
   "outputs": [
    {
     "data": {
      "text/plain": [
       "{'ResponseMetadata': {'RequestId': 'KNC8MRZRK9T8Q0TT',\n",
       "  'HostId': 'LS67SegRHsrqV6BeGv4K0tLb8oqnC8me2uKKbP+ihmohmHMRZxiPXqSZIwh71a4EuUq7TkI6D96nAV6tnL8eGXG7YBfPyrYv',\n",
       "  'HTTPStatusCode': 200,\n",
       "  'HTTPHeaders': {'x-amz-id-2': 'LS67SegRHsrqV6BeGv4K0tLb8oqnC8me2uKKbP+ihmohmHMRZxiPXqSZIwh71a4EuUq7TkI6D96nAV6tnL8eGXG7YBfPyrYv',\n",
       "   'x-amz-request-id': 'KNC8MRZRK9T8Q0TT',\n",
       "   'date': 'Tue, 30 May 2023 00:48:27 GMT',\n",
       "   'x-amz-server-side-encryption': 'AES256',\n",
       "   'etag': '\"e6ab783735149aed7253133351a4f5a1\"',\n",
       "   'server': 'AmazonS3',\n",
       "   'content-length': '0'},\n",
       "  'RetryAttempts': 0},\n",
       " 'ETag': '\"e6ab783735149aed7253133351a4f5a1\"',\n",
       " 'ServerSideEncryption': 'AES256'}"
      ]
     },
     "execution_count": 44,
     "metadata": {},
     "output_type": "execute_result"
    }
   ],
   "source": [
    "session = boto3.Session()\n",
    "\n",
    "s3 = session.client('s3')\n",
    "\n",
    "bucket_name = 'refined-dev-fernando'\n",
    "file_name = 'refined-2023/05/28.json'\n",
    "\n",
    "s3.put_object(Body=json_refined, Bucket=bucket_name, Key=file_name)"
   ]
  },
  {
   "cell_type": "code",
   "execution_count": null,
   "id": "6ea8783d",
   "metadata": {},
   "outputs": [],
   "source": []
  }
 ],
 "metadata": {
  "kernelspec": {
   "display_name": "Python 3 (ipykernel)",
   "language": "python",
   "name": "python3"
  },
  "language_info": {
   "codemirror_mode": {
    "name": "ipython",
    "version": 3
   },
   "file_extension": ".py",
   "mimetype": "text/x-python",
   "name": "python",
   "nbconvert_exporter": "python",
   "pygments_lexer": "ipython3",
   "version": "3.7.16"
  }
 },
 "nbformat": 4,
 "nbformat_minor": 5
}
